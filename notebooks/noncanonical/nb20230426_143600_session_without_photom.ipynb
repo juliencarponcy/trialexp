{
 "cells": [
  {
   "cell_type": "code",
   "execution_count": 10,
   "metadata": {},
   "outputs": [
    {
     "name": "stderr",
     "output_type": "stream",
     "text": [
      "[NbConvertApp] WARNING | Config option `kernel_spec_manager_class` not recognized by `NbConvertApp`.\n",
      "[NbConvertApp] Converting notebook d:\\OneDrive - Nexus365\\Private_Dropbox\\Projects\\trialexp\\notebooks\\noncanonical\\nb20230426_143600_session_without_photom.ipynb to python\n",
      "[NbConvertApp] Writing 1128 bytes to d:\\OneDrive - Nexus365\\Private_Dropbox\\Projects\\trialexp\\notebooks\\noncanonical\\nb20230426_143600_session_without_photom.py\n"
     ]
    }
   ],
   "source": [
    "import os\n",
    "\n",
    "nb_name = \"nb20230426_143600_session_without_photom.ipynb\" #TODO change this\n",
    "\n",
    "basename, ext = os.path.splitext(nb_name)\n",
    "input_path = os.path.join(os.getcwd(), nb_name)\n",
    "\n",
    "!jupyter nbconvert \"{input_path}\" --to=\"python\" --output=\"{basename}\""
   ]
  },
  {
   "cell_type": "code",
   "execution_count": 11,
   "metadata": {},
   "outputs": [
    {
     "name": "stdout",
     "output_type": "stream",
     "text": [
      "Subfolders without .ppd files:\n",
      "Z:\\Julien\\Data\\head-fixed\\by_sessions\\reaching_go_spout_bar_nov22\\JC313L-2022-12-07-134249\\pyphotometry\n",
      "Z:\\Julien\\Data\\head-fixed\\by_sessions\\reaching_go_spout_bar_nov22\\kms063-2023-04-14-160112\\pyphotometry\n",
      "Z:\\Julien\\Data\\head-fixed\\by_sessions\\reaching_go_spout_bar_nov22\\kms064-2023-03-06-105405\\pyphotometry\n",
      "Z:\\Julien\\Data\\head-fixed\\by_sessions\\reaching_go_spout_bar_nov22\\RE602-2023-03-17-150753\\pyphotometry\n",
      "Z:\\Julien\\Data\\head-fixed\\by_sessions\\reaching_go_spout_bar_nov22\\RE604-2023-03-14-093001\\pyphotometry\n"
     ]
    }
   ],
   "source": [
    "import os\n",
    "import glob\n",
    "\n",
    "\n",
    "def find_subfolders_without_ppd_files(root_folder):\n",
    "    subfolders_without_ppd = []\n",
    "\n",
    "    for item in os.listdir(root_folder):\n",
    "        item_path = os.path.join(root_folder, item, 'pyphotometry')\n",
    "\n",
    "        # Check if the item is a directory\n",
    "        if os.path.isdir(item_path):\n",
    "            ppd_files = glob.glob(os.path.join(item_path, '*.ppd'))\n",
    "\n",
    "            if not ppd_files:\n",
    "                subfolders_without_ppd.append(item_path)\n",
    "\n",
    "    return subfolders_without_ppd\n",
    "\n",
    "\n",
    "if __name__ == \"__main__\":\n",
    "    root_folder = r\"Z:\\Julien\\Data\\head-fixed\\by_sessions\\reaching_go_spout_bar_nov22\"\n",
    "    subfolders_without_ppd = find_subfolders_without_ppd_files(root_folder)\n",
    "\n",
    "    print(\"Subfolders without .ppd files:\")\n",
    "    for folder in subfolders_without_ppd:\n",
    "        print(folder)\n"
   ]
  }
 ],
 "metadata": {
  "kernelspec": {
   "display_name": "trialexp",
   "language": "python",
   "name": "python3"
  },
  "language_info": {
   "codemirror_mode": {
    "name": "ipython",
    "version": 3
   },
   "file_extension": ".py",
   "mimetype": "text/x-python",
   "name": "python",
   "nbconvert_exporter": "python",
   "pygments_lexer": "ipython3",
   "version": "3.9.16"
  },
  "orig_nbformat": 4
 },
 "nbformat": 4,
 "nbformat_minor": 2
}
